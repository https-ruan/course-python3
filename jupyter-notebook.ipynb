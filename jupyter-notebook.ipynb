{
 "cells": [
  {
   "cell_type": "markdown",
   "id": "4fd0c8c6-c30e-4153-87e8-bac360ffb25f",
   "metadata": {},
   "source": [
    "# Esse é o meu título\n",
    "Essa linha cria uma variável `a`."
   ]
  },
  {
   "cell_type": "code",
   "execution_count": 1,
   "id": "1e6201ef-4e97-4cb7-bd67-f11acfeff361",
   "metadata": {},
   "outputs": [],
   "source": [
    "a = 2"
   ]
  },
  {
   "cell_type": "code",
   "execution_count": 2,
   "id": "6985005b-72f2-427f-aedc-8b1c799de8f1",
   "metadata": {},
   "outputs": [
    {
     "data": {
      "text/plain": [
       "2"
      ]
     },
     "execution_count": 2,
     "metadata": {},
     "output_type": "execute_result"
    }
   ],
   "source": [
    "a"
   ]
  },
  {
   "cell_type": "markdown",
   "id": "89e1c645-912b-42a2-80c6-5eb374ec3e49",
   "metadata": {},
   "source": [
    "Essa linha tem o valor da variável `a` em dobro"
   ]
  },
  {
   "cell_type": "code",
   "execution_count": 8,
   "id": "85094764-27c2-4119-bee0-0965f2265e58",
   "metadata": {},
   "outputs": [
    {
     "data": {
      "text/plain": [
       "4"
      ]
     },
     "execution_count": 8,
     "metadata": {},
     "output_type": "execute_result"
    }
   ],
   "source": [
    "b = a * 2\n",
    "b"
   ]
  },
  {
   "cell_type": "markdown",
   "id": "0e7a9a87-0b3e-473f-a19a-fb379e580393",
   "metadata": {},
   "source": [
    "Essa linha mostra o valor de `a` + `b`"
   ]
  },
  {
   "cell_type": "code",
   "execution_count": 10,
   "id": "ddd05a05-d3d5-44d8-b3da-4664034b82c6",
   "metadata": {},
   "outputs": [
    {
     "data": {
      "text/plain": [
       "6"
      ]
     },
     "execution_count": 10,
     "metadata": {},
     "output_type": "execute_result"
    }
   ],
   "source": [
    "a + b"
   ]
  }
 ],
 "metadata": {
  "kernelspec": {
   "display_name": "Python 3 (ipykernel)",
   "language": "python",
   "name": "python3"
  },
  "language_info": {
   "codemirror_mode": {
    "name": "ipython",
    "version": 3
   },
   "file_extension": ".py",
   "mimetype": "text/x-python",
   "name": "python",
   "nbconvert_exporter": "python",
   "pygments_lexer": "ipython3",
   "version": "3.12.1"
  }
 },
 "nbformat": 4,
 "nbformat_minor": 5
}
